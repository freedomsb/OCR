{
 "cells": [
  {
   "cell_type": "code",
   "execution_count": 1,
   "metadata": {
    "collapsed": true
   },
   "outputs": [],
   "source": [
    "import cv2\n",
    "import numpy as np\n",
    "from matplotlib import pyplot as plt\n",
    "\n",
    "import matplotlib.patches as mpatches\n",
    "\n",
    "from skimage import data\n",
    "from skimage.filters import threshold_otsu\n",
    "from skimage.segmentation import clear_border\n",
    "from skimage.measure import label, regionprops\n",
    "from skimage.morphology import closing, square\n",
    "from skimage.color import label2rgb\n",
    "\n",
    "import os"
   ]
  },
  {
   "cell_type": "code",
   "execution_count": 2,
   "metadata": {
    "collapsed": true
   },
   "outputs": [],
   "source": [
    "def isIntersection(b1,b2):\n",
    "    return not(b2[0] > b1[2] or b2[2] < b1[0] or b2[1] > b1[3] or b2[3] < b1[1])"
   ]
  },
  {
   "cell_type": "code",
   "execution_count": 3,
   "metadata": {
    "collapsed": true
   },
   "outputs": [],
   "source": [
    "def flex_resize(img_ori):\n",
    "    MAX_AREA=img_ori.shape[0]*img_ori.shape[1]\n",
    "    # decide the scale factor\n",
    "    scale=1.0\n",
    "    imgH=img_ori.shape[0]\n",
    "    imgH_ref=img_ori.shape[0]\n",
    "    while (imgH<160):\n",
    "        scale+=0.1\n",
    "        imgH=scale*imgH_ref\n",
    "    # resize image\n",
    "    dst=cv2.resize(img_ori,(0,0),fx= scale,fy= scale, interpolation=cv2.INTER_NEAREST)\n",
    "    return dst,MAX_AREA\n",
    "\n",
    "def getBoundingBox(dst,MAX_AREA):\n",
    "    img_gray=cv2.cvtColor(dst, cv2.COLOR_BGR2GRAY)\n",
    "    img_median=cv2.medianBlur(img_gray,3)\n",
    "    \n",
    "    image_edges=cv2.Canny(img_median,100,200,3)#100,200,3\n",
    "\n",
    "    kernel=cv2.getStructuringElement(cv2.MORPH_RECT,(3,3))\n",
    "    closing = cv2.morphologyEx(image_edges, cv2.MORPH_CLOSE, kernel)\n",
    "    \n",
    "    # clear the image border\n",
    "    cleared = clear_border(closing)\n",
    "    \n",
    "    # label the image\n",
    "    label_image = label(cleared)\n",
    "    \n",
    "    all_regions=regionprops(label_image)\n",
    "\n",
    "    candidate_regions=[]\n",
    "    valid_regions=[]\n",
    "    isValid=0\n",
    "\n",
    "    for region in all_regions:\n",
    "        # take regions with large enough areas\n",
    "        if region.area >= MAX_AREA/18:\n",
    "            candidate_regions.append(region.bbox)\n",
    "\n",
    "    for i in range(len(candidate_regions)):\n",
    "        rr=candidate_regions[i]# reference box\n",
    "        for j in range(len(candidate_regions)):\n",
    "            if i==j:\n",
    "                continue\n",
    "            cr=candidate_regions[j]#the box to be compared with\n",
    "            if cr[0]<rr[0] and cr[1]<rr[1] and cr[2]>rr[2] and cr[3]>rr[3]:\n",
    "                isValid=0\n",
    "                break\n",
    "            else:\n",
    "                isValid=1\n",
    "        if isValid:\n",
    "            valid_regions.append(rr)\n",
    "            \n",
    "    return valid_regions"
   ]
  },
  {
   "cell_type": "code",
   "execution_count": 4,
   "metadata": {},
   "outputs": [
    {
     "data": {
      "text/plain": [
       "840"
      ]
     },
     "execution_count": 4,
     "metadata": {},
     "output_type": "execute_result"
    }
   ],
   "source": [
    "all_files=[]\n",
    "root_dir=\"/home/fengsibo/my_project/OCR/image_segmentation/capture/\"\n",
    "for parent,dirnames,filenames in os.walk(root_dir):\n",
    "       for filename in filenames:\n",
    "            full_filenames=filename\n",
    "            all_files.append(full_filenames)\n",
    "            #print \"filename is:\" + full_filenames\n",
    "len(all_files)\n",
    "#all_files[1][:-4]"
   ]
  },
  {
   "cell_type": "code",
   "execution_count": 5,
   "metadata": {},
   "outputs": [],
   "source": [
    "result_dir=\"/home/fengsibo/my_project/OCR/image_segmentation/result\"\n",
    "if not os.path.exists(result_dir):\n",
    "    os.makedirs(result_dir)\n",
    "    \n",
    "v_r=[]\n",
    "for file_id in range(len(all_files)):\n",
    "    filename=root_dir+all_files[file_id]\n",
    "    img_ori=cv2.imread(filename,1)\n",
    "    dst,MAX_AREA=flex_resize(img_ori)\n",
    "    v_r=getBoundingBox(dst,MAX_AREA)#valid region\n",
    "    for i in range(len(v_r)):\n",
    "        img=dst[v_r[i][0]:v_r[i][2],v_r[i][1]:v_r[i][3]]\n",
    "        result_name=result_dir+'/'+all_files[file_id][:-4]+'_'+str(i)+'.jpg'\n",
    "        cv2.imwrite(result_name,img)"
   ]
  },
  {
   "cell_type": "code",
   "execution_count": 6,
   "metadata": {},
   "outputs": [
    {
     "data": {
      "text/plain": [
       "\"\\nimage_label_overlay = label2rgb(label_image, image=dst)\\n\\nfig, ax = plt.subplots(figsize=(10, 6))\\nax.imshow(image_label_overlay)\\nfor region in valid_regions:\\n    # take regions with large enough areas\\n    minr, minc, maxr, maxc = region\\n    #print region.bbox\\n    rect = mpatches.Rectangle((minc, minr), maxc - minc, maxr - minr,\\n                            fill=False, edgecolor='red', linewidth=2)\\n    ax.add_patch(rect)\\n        #print type(region.bbox)\\nax.set_axis_off()\\nplt.tight_layout()\\nplt.show()\\n\""
      ]
     },
     "execution_count": 6,
     "metadata": {},
     "output_type": "execute_result"
    }
   ],
   "source": [
    "'''\n",
    "image_label_overlay = label2rgb(label_image, image=dst)\n",
    "\n",
    "fig, ax = plt.subplots(figsize=(10, 6))\n",
    "ax.imshow(image_label_overlay)\n",
    "for region in valid_regions:\n",
    "    # take regions with large enough areas\n",
    "    minr, minc, maxr, maxc = region\n",
    "    #print region.bbox\n",
    "    rect = mpatches.Rectangle((minc, minr), maxc - minc, maxr - minr,\n",
    "                            fill=False, edgecolor='red', linewidth=2)\n",
    "    ax.add_patch(rect)\n",
    "        #print type(region.bbox)\n",
    "ax.set_axis_off()\n",
    "plt.tight_layout()\n",
    "plt.show()\n",
    "'''"
   ]
  },
  {
   "cell_type": "code",
   "execution_count": null,
   "metadata": {
    "collapsed": true
   },
   "outputs": [],
   "source": []
  }
 ],
 "metadata": {
  "kernelspec": {
   "display_name": "Python 2",
   "language": "python",
   "name": "python2"
  },
  "language_info": {
   "codemirror_mode": {
    "name": "ipython",
    "version": 2
   },
   "file_extension": ".py",
   "mimetype": "text/x-python",
   "name": "python",
   "nbconvert_exporter": "python",
   "pygments_lexer": "ipython2",
   "version": "2.7.12"
  }
 },
 "nbformat": 4,
 "nbformat_minor": 2
}
