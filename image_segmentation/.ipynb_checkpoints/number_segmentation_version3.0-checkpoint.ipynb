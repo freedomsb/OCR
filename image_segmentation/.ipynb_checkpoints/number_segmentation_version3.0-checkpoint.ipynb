{
 "cells": [
  {
   "cell_type": "markdown",
   "metadata": {
    "collapsed": true
   },
   "source": [
    "# this algorithom using image threshold to achieve the number segmentation\n"
   ]
  },
  {
   "cell_type": "code",
   "execution_count": 1,
   "metadata": {
    "collapsed": true
   },
   "outputs": [],
   "source": [
    "import cv2\n",
    "import numpy as np\n",
    "from matplotlib import pyplot as plt\n",
    "\n",
    "import matplotlib.patches as mpatches\n",
    "\n",
    "from skimage import data\n",
    "from skimage.filters import threshold_otsu\n",
    "from skimage.segmentation import clear_border\n",
    "from skimage.measure import label, regionprops\n",
    "from skimage.morphology import closing, square\n",
    "from skimage.color import label2rgb"
   ]
  },
  {
   "cell_type": "code",
   "execution_count": 2,
   "metadata": {
    "collapsed": true
   },
   "outputs": [],
   "source": [
    "def isIntersection(b1,b2):\n",
    "    return not(b2[0] > b1[2] or b2[2] < b1[0] or b2[1] > b1[3] or b2[3] < b1[1])"
   ]
  },
  {
   "cell_type": "markdown",
   "metadata": {},
   "source": [
    "# read original image and resize the image"
   ]
  },
  {
   "cell_type": "code",
   "execution_count": 3,
   "metadata": {},
   "outputs": [
    {
     "data": {
      "image/png": "[encoded data removed]",
      "text/plain": [
       "<matplotlib.figure.Figure at 0x7f8c9495fe10>"
      ]
     },
     "metadata": {},
     "output_type": "display_data"
    }
   ],
   "source": [
    "img_ori=cv2.imread(\"/home/fengsibo/my_project/OCR/image_segmentation/capture/catch149864984829.jpg\",1)\n",
    "\n",
    "MAX_AREA=img_ori.shape[0]*img_ori.shape[1]\n",
    "\n",
    "# decide the scale factor\n",
    "scale=1.0\n",
    "imgH=img_ori.shape[0]\n",
    "imgH_ref=img_ori.shape[0]\n",
    "while (imgH<160):\n",
    "    scale+=0.1\n",
    "    imgH=scale*imgH_ref\n",
    "\n",
    "# resize image\n",
    "dst=cv2.resize(img_ori,(0,0),fx= scale,fy= scale, interpolation=cv2.INTER_NEAREST)\n",
    "\n",
    "plt.imshow(dst,cmap = 'gray')\n",
    "plt.title('resized Image'), plt.xticks([]), plt.yticks([])\n",
    "plt.show()"
   ]
  },
  {
   "cell_type": "markdown",
   "metadata": {},
   "source": [
    "# convert color image to gray and reduce the noice"
   ]
  },
  {
   "cell_type": "code",
   "execution_count": 4,
   "metadata": {},
   "outputs": [
    {
     "data": {
      "image/png": "[encoded data removed]",
      "text/plain": [
       "<matplotlib.figure.Figure at 0x7f8cf05bf7d0>"
      ]
     },
     "metadata": {},
     "output_type": "display_data"
    }
   ],
   "source": [
    "img_gray=cv2.cvtColor(dst, cv2.COLOR_BGR2GRAY)\n",
    "\n",
    "blur = cv2.GaussianBlur(img_gray,(5,5),0)\n",
    "ret,threshold = cv2.threshold(blur,0,255,cv2.THRESH_BINARY_INV+cv2.THRESH_OTSU)\n",
    "\n",
    "plt.imshow(threshold,cmap = 'gray')\n",
    "plt.title('gaussian blur and OTSU'), plt.xticks([]), plt.yticks([])\n",
    "plt.show()"
   ]
  },
  {
   "cell_type": "markdown",
   "metadata": {},
   "source": [
    "# Morphological Transformations"
   ]
  },
  {
   "cell_type": "code",
   "execution_count": 5,
   "metadata": {},
   "outputs": [
    {
     "data": {
      "image/png": "[encoded data removed]",
      "text/plain": [
       "<matplotlib.figure.Figure at 0x7f8c90781310>"
      ]
     },
     "metadata": {},
     "output_type": "display_data"
    }
   ],
   "source": [
    "kernel=cv2.getStructuringElement(cv2.MORPH_RECT,(3,3))\n",
    "\n",
    "closing = cv2.morphologyEx(threshold, cv2.MORPH_CLOSE, kernel)\n",
    "\n",
    "plt.imshow(closing,cmap = 'gray')\n",
    "plt.title('closing'), plt.xticks([]), plt.yticks([])\n",
    "plt.show()"
   ]
  },
  {
   "cell_type": "code",
   "execution_count": 6,
   "metadata": {},
   "outputs": [
    {
     "data": {
      "image/png": "[encoded data removed]",
      "text/plain": [
       "<matplotlib.figure.Figure at 0x7f8cf05bf850>"
      ]
     },
     "metadata": {},
     "output_type": "display_data"
    }
   ],
   "source": [
    "# clear the image border\n",
    "cleared = clear_border(closing)\n",
    "\n",
    "plt.imshow(cleared,cmap = 'gray')\n",
    "plt.title('Image_cleared'), plt.xticks([]), plt.yticks([])\n",
    "plt.show()"
   ]
  },
  {
   "cell_type": "code",
   "execution_count": 7,
   "metadata": {},
   "outputs": [
    {
     "data": {
      "image/png": "[encoded data removed]",
      "text/plain": [
       "<matplotlib.figure.Figure at 0x7f8c906b44d0>"
      ]
     },
     "metadata": {},
     "output_type": "display_data"
    }
   ],
   "source": [
    "# label the image\n",
    "label_image = label(cleared)\n",
    "\n",
    "plt.imshow(label_image,cmap = 'gray')\n",
    "plt.title('label_image'), plt.xticks([]), plt.yticks([])\n",
    "plt.show()"
   ]
  },
  {
   "cell_type": "markdown",
   "metadata": {},
   "source": [
    "# compute bounding box"
   ]
  },
  {
   "cell_type": "code",
   "execution_count": 8,
   "metadata": {
    "collapsed": true
   },
   "outputs": [],
   "source": [
    "all_regions=regionprops(label_image)\n",
    "\n",
    "candidate_regions=[]\n",
    "valid_regions=[]\n",
    "isValid=0\n",
    "\n",
    "for region in all_regions:\n",
    "    # take regions with large enough areas\n",
    "    if region.area >= MAX_AREA/18:\n",
    "        candidate_regions.append(region.bbox)\n",
    "        \n",
    "if len(candidate_regions):\n",
    "    valid_regions=candidate_regions\n",
    "else:\n",
    "    for i in range(len(candidate_regions)):\n",
    "        rr=candidate_regions[i]# reference box\n",
    "        for j in range(len(candidate_regions)):\n",
    "            if i==j:\n",
    "                continue\n",
    "            cr=candidate_regions[j]#the box to be compared with\n",
    "            if cr[0]<rr[0] and cr[1]<rr[1] and cr[2]>rr[2] and cr[3]>rr[3]:\n",
    "                isValid=0\n",
    "                break\n",
    "            else:\n",
    "                isValid=1\n",
    "        if isValid:\n",
    "            valid_regions.append(rr)\n"
   ]
  },
  {
   "cell_type": "code",
   "execution_count": 9,
   "metadata": {},
   "outputs": [
    {
     "data": {
      "image/png": "[encoded data removed]",
      "text/plain": [
       "<matplotlib.figure.Figure at 0x7f8c934237d0>"
      ]
     },
     "metadata": {},
     "output_type": "display_data"
    }
   ],
   "source": [
    "image_label_overlay = label2rgb(label_image, image=dst)\n",
    "\n",
    "fig, ax = plt.subplots(figsize=(10, 6))\n",
    "ax.imshow(image_label_overlay)\n",
    "for region in valid_regions:\n",
    "    # take regions with large enough areas\n",
    "    minr, minc, maxr, maxc = region\n",
    "    #print region.bbox\n",
    "    rect = mpatches.Rectangle((minc, minr), maxc - minc, maxr - minr,\n",
    "                            fill=False, edgecolor='red', linewidth=2)\n",
    "    ax.add_patch(rect)\n",
    "        #print type(region.bbox)\n",
    "ax.set_axis_off()\n",
    "plt.tight_layout()\n",
    "plt.show()"
   ]
  },
  {
   "cell_type": "code",
   "execution_count": null,
   "metadata": {
    "collapsed": true
   },
   "outputs": [],
   "source": []
  }
 ],
 "metadata": {
  "kernelspec": {
   "display_name": "Python 2",
   "language": "python",
   "name": "python2"
  },
  "language_info": {
   "codemirror_mode": {
    "name": "ipython",
    "version": 2
   },
   "file_extension": ".py",
   "mimetype": "text/x-python",
   "name": "python",
   "nbconvert_exporter": "python",
   "pygments_lexer": "ipython2",
   "version": "2.7.12"
  }
 },
 "nbformat": 4,
 "nbformat_minor": 2
}
